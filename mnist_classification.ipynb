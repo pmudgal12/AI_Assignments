{
 "cells": [
  {
   "cell_type": "code",
   "execution_count": 1,
   "metadata": {},
   "outputs": [
    {
     "name": "stderr",
     "output_type": "stream",
     "text": [
      "Using TensorFlow backend.\n"
     ]
    }
   ],
   "source": [
    "import numpy\n",
    "from keras.datasets import mnist\n",
    "from keras.models import Sequential\n",
    "from keras.layers import Dense\n",
    "from keras.utils import np_utils\n",
    "import matplotlib.pyplot as plt"
   ]
  },
  {
   "cell_type": "code",
   "execution_count": 2,
   "metadata": {},
   "outputs": [],
   "source": [
    "seed = 7\n",
    "numpy.random.seed(seed)"
   ]
  },
  {
   "cell_type": "code",
   "execution_count": 3,
   "metadata": {},
   "outputs": [],
   "source": [
    "# loading data from mnist\n",
    "(X_train, y_train), (X_test, y_test) = mnist.load_data()"
   ]
  },
  {
   "cell_type": "code",
   "execution_count": 4,
   "metadata": {},
   "outputs": [],
   "source": [
    "num_pixels = X_train.shape[1] * X_train.shape[2]\n",
    "X_train = X_train.reshape(X_train.shape[0], num_pixels).astype('float32')\n",
    "X_test = X_test.reshape(X_test.shape[0], num_pixels).astype('float32')"
   ]
  },
  {
   "cell_type": "code",
   "execution_count": 5,
   "metadata": {},
   "outputs": [],
   "source": [
    "X_train = X_train / 255\n",
    "X_test = X_test / 255"
   ]
  },
  {
   "cell_type": "code",
   "execution_count": 6,
   "metadata": {},
   "outputs": [],
   "source": [
    "y_train = np_utils.to_categorical(y_train)\n",
    "y_test = np_utils.to_categorical(y_test)\n",
    "num_classes = y_test.shape[1]"
   ]
  },
  {
   "cell_type": "code",
   "execution_count": 9,
   "metadata": {},
   "outputs": [],
   "source": [
    "def baseline_model():\n",
    "\t# create model\n",
    "\tmodel = Sequential()\n",
    "\tmodel.add(Dense(num_pixels, input_dim=num_pixels, kernel_initializer='normal', activation='relu'))\n",
    "\tmodel.add(Dense(num_classes, kernel_initializer='normal', activation='softmax'))\n",
    "\t# Compilation\n",
    "\tmodel.compile(loss='categorical_crossentropy', optimizer='adam', metrics=['accuracy'])\n",
    "\treturn model"
   ]
  },
  {
   "cell_type": "code",
   "execution_count": 11,
   "metadata": {},
   "outputs": [
    {
     "name": "stdout",
     "output_type": "stream",
     "text": [
      "Train on 60000 samples, validate on 10000 samples\n",
      "Epoch 1/24\n",
      " - 11s - loss: 0.2801 - acc: 0.9204 - val_loss: 0.1347 - val_acc: 0.9591\n",
      "Epoch 2/24\n",
      " - 13s - loss: 0.1105 - acc: 0.9682 - val_loss: 0.0919 - val_acc: 0.9721\n",
      "Epoch 3/24\n",
      " - 12s - loss: 0.0711 - acc: 0.9792 - val_loss: 0.0767 - val_acc: 0.9762\n",
      "Epoch 4/24\n",
      " - 12s - loss: 0.0475 - acc: 0.9867 - val_loss: 0.0681 - val_acc: 0.9784\n",
      "Epoch 5/24\n",
      " - 13s - loss: 0.0364 - acc: 0.9898 - val_loss: 0.0613 - val_acc: 0.9817\n",
      "Epoch 6/24\n",
      " - 13s - loss: 0.0264 - acc: 0.9926 - val_loss: 0.0635 - val_acc: 0.9798\n",
      "Epoch 7/24\n",
      " - 14s - loss: 0.0197 - acc: 0.9949 - val_loss: 0.0590 - val_acc: 0.9810\n",
      "Epoch 8/24\n",
      " - 13s - loss: 0.0139 - acc: 0.9969 - val_loss: 0.0574 - val_acc: 0.9828\n",
      "Epoch 9/24\n",
      " - 14s - loss: 0.0108 - acc: 0.9977 - val_loss: 0.0598 - val_acc: 0.9805\n",
      "Epoch 10/24\n",
      " - 13s - loss: 0.0078 - acc: 0.9986 - val_loss: 0.0599 - val_acc: 0.9812\n",
      "Epoch 11/24\n",
      " - 11s - loss: 0.0058 - acc: 0.9992 - val_loss: 0.0653 - val_acc: 0.9813\n",
      "Epoch 12/24\n",
      " - 12s - loss: 0.0047 - acc: 0.9994 - val_loss: 0.0619 - val_acc: 0.9826\n",
      "Epoch 13/24\n",
      " - 12s - loss: 0.0036 - acc: 0.9995 - val_loss: 0.0767 - val_acc: 0.9783\n",
      "Epoch 14/24\n",
      " - 12s - loss: 0.0043 - acc: 0.9993 - val_loss: 0.0596 - val_acc: 0.9838\n",
      "Epoch 15/24\n",
      " - 14s - loss: 0.0026 - acc: 0.9997 - val_loss: 0.0673 - val_acc: 0.9814\n",
      "Epoch 16/24\n",
      " - 13s - loss: 0.0114 - acc: 0.9963 - val_loss: 0.0786 - val_acc: 0.9791\n",
      "Epoch 17/24\n",
      " - 13s - loss: 0.0082 - acc: 0.9974 - val_loss: 0.0707 - val_acc: 0.9815\n",
      "Epoch 18/24\n",
      " - 12s - loss: 0.0029 - acc: 0.9993 - val_loss: 0.0668 - val_acc: 0.9838\n",
      "Epoch 19/24\n",
      " - 11s - loss: 0.0012 - acc: 0.9999 - val_loss: 0.0625 - val_acc: 0.9847\n",
      "Epoch 20/24\n",
      " - 12s - loss: 4.6331e-04 - acc: 1.0000 - val_loss: 0.0627 - val_acc: 0.9853\n",
      "Epoch 21/24\n",
      " - 11s - loss: 3.2570e-04 - acc: 1.0000 - val_loss: 0.0637 - val_acc: 0.9850\n",
      "Epoch 22/24\n",
      " - 11s - loss: 2.6940e-04 - acc: 1.0000 - val_loss: 0.0644 - val_acc: 0.9853\n",
      "Epoch 23/24\n",
      " - 12s - loss: 2.3016e-04 - acc: 1.0000 - val_loss: 0.0646 - val_acc: 0.9850\n",
      "Epoch 24/24\n",
      " - 13s - loss: 2.0816e-04 - acc: 1.0000 - val_loss: 0.0649 - val_acc: 0.9852\n",
      "Train on 48000 samples, validate on 12000 samples\n",
      "Epoch 1/10\n",
      "  160/48000 [..............................] - ETA: 42s - loss: 1.4889e-04 - acc: 1.0000"
     ]
    },
    {
     "name": "stderr",
     "output_type": "stream",
     "text": [
      "c:\\python35\\lib\\site-packages\\keras\\models.py:942: UserWarning: The `nb_epoch` argument in `fit` has been renamed `epochs`.\n",
      "  warnings.warn('The `nb_epoch` argument in `fit` '\n"
     ]
    },
    {
     "name": "stdout",
     "output_type": "stream",
     "text": [
      "48000/48000 [==============================] - 39s 810us/step - loss: 0.0515 - acc: 0.9845 - val_loss: 0.0241 - val_acc: 0.9912\n",
      "Epoch 2/10\n",
      "48000/48000 [==============================] - 41s 846us/step - loss: 0.0133 - acc: 0.9955 - val_loss: 0.0342 - val_acc: 0.9892\n",
      "Epoch 3/10\n",
      "48000/48000 [==============================] - 42s 872us/step - loss: 0.0159 - acc: 0.9947 - val_loss: 0.0372 - val_acc: 0.9891\n",
      "Epoch 4/10\n",
      "48000/48000 [==============================] - 42s 875us/step - loss: 0.0135 - acc: 0.9952 - val_loss: 0.0423 - val_acc: 0.9878\n",
      "Epoch 5/10\n",
      "48000/48000 [==============================] - 34s 715us/step - loss: 0.0130 - acc: 0.9957 - val_loss: 0.0471 - val_acc: 0.9872\n",
      "Epoch 6/10\n",
      "48000/48000 [==============================] - 33s 695us/step - loss: 0.0130 - acc: 0.9958 - val_loss: 0.0363 - val_acc: 0.9894\n",
      "Epoch 7/10\n",
      "48000/48000 [==============================] - 33s 696us/step - loss: 0.0096 - acc: 0.9969 - val_loss: 0.0385 - val_acc: 0.9888\n",
      "Epoch 8/10\n",
      "48000/48000 [==============================] - 34s 711us/step - loss: 0.0092 - acc: 0.9968 - val_loss: 0.0337 - val_acc: 0.9909\n",
      "Epoch 9/10\n",
      "48000/48000 [==============================] - 34s 701us/step - loss: 0.0080 - acc: 0.9975 - val_loss: 0.0464 - val_acc: 0.9880\n",
      "Epoch 10/10\n",
      "48000/48000 [==============================] - 36s 750us/step - loss: 0.0096 - acc: 0.9970 - val_loss: 0.0766 - val_acc: 0.9812\n",
      " Error: 2.39%\n",
      "_________________________________________________________________\n",
      "Layer (type)                 Output Shape              Param #   \n",
      "=================================================================\n",
      "dense_5 (Dense)              (None, 784)               615440    \n",
      "_________________________________________________________________\n",
      "dense_6 (Dense)              (None, 10)                7850      \n",
      "=================================================================\n",
      "Total params: 623,290\n",
      "Trainable params: 623,290\n",
      "Non-trainable params: 0\n",
      "_________________________________________________________________\n",
      "None\n"
     ]
    }
   ],
   "source": [
    "model = baseline_model()\n",
    "model.fit(X_train, y_train, validation_data=(X_test, y_test), epochs=24, batch_size=200, verbose=2)\n",
    "history = model.fit(X_train, y_train, nb_epoch=10, validation_split=0.2, shuffle=True)\n",
    "# final performance/evaluation of the model\n",
    "scores = model.evaluate(X_test, y_test, verbose=0)\n",
    "print(\" Error: %.2f%%\" % (100-scores[1]*100))\n",
    "print(model.summary())"
   ]
  },
  {
   "cell_type": "code",
   "execution_count": 12,
   "metadata": {},
   "outputs": [
    {
     "name": "stdout",
     "output_type": "stream",
     "text": [
      "dict_keys(['val_loss', 'acc', 'val_acc', 'loss'])\n"
     ]
    },
    {
     "data": {
      "image/png": "[encoded data removed]",
      "text/plain": [
       "<matplotlib.figure.Figure at 0x1a20e071a90>"
      ]
     },
     "metadata": {},
     "output_type": "display_data"
    }
   ],
   "source": [
    "print(history.history.keys())\n",
    "#  \"Accuracy\"\n",
    "plt.plot(history.history['acc'])\n",
    "plt.plot(history.history['val_acc'])\n",
    "plt.title('model accuracy')\n",
    "plt.ylabel('accuracy')\n",
    "plt.xlabel('no. of epoch')\n",
    "plt.legend(['train', 'validation'], loc='upper left')\n",
    "plt.show()"
   ]
  },
  {
   "cell_type": "code",
   "execution_count": 13,
   "metadata": {},
   "outputs": [
    {
     "data": {
      "image/png": "[encoded data removed]",
      "text/plain": [
       "<matplotlib.figure.Figure at 0x1a20e071860>"
      ]
     },
     "metadata": {},
     "output_type": "display_data"
    }
   ],
   "source": [
    "plt.plot(history.history['loss'])\n",
    "plt.plot(history.history['val_loss'])\n",
    "plt.title('model loss')\n",
    "plt.ylabel('loss')\n",
    "plt.xlabel('no. of epoch')\n",
    "plt.legend(['train', 'validation'], loc='upper left')\n",
    "plt.show()"
   ]
  },
  {
   "cell_type": "code",
   "execution_count": null,
   "metadata": {},
   "outputs": [],
   "source": []
  }
 ],
 "metadata": {
  "kernelspec": {
   "display_name": "Python 3",
   "language": "python",
   "name": "python3"
  },
  "language_info": {
   "codemirror_mode": {
    "name": "ipython",
    "version": 3
   },
   "file_extension": ".py",
   "mimetype": "text/x-python",
   "name": "python",
   "nbconvert_exporter": "python",
   "pygments_lexer": "ipython3",
   "version": "3.5.2"
  }
 },
 "nbformat": 4,
 "nbformat_minor": 2
}
